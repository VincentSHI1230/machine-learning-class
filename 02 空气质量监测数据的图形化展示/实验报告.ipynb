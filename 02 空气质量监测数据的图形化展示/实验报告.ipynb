{
 "cells": [
  {
   "cell_type": "markdown",
   "metadata": {},
   "source": [
    "## 实验目的\n",
    "\n",
    "掌握 Python 中 Matplotlib 进行绘图的方法。\n",
    "\n",
    "本案例基于北京市空气质量监测数据，绘制各种常见统计图形，并通过各种函数设置图形中的图标题、线条样式、字符形状、颜色、轴属性以及字体属性等。\n",
    "\n",
    "## 实验内容\n",
    "\n",
    "1. AQI 的时序变化特点：利用 Matplotlib 的线图展示 2014 年至 2019 年每日 AQI 的时序变化特点、AQI 总平均值和历年平均值。\n",
    "\n",
    "1. AQI 的分布特征及相关性分析：利用线图展示 2014 年至 2019 年的年均 AQI 的变化特点，利用直方图展示 2014 年至 2019 年 AQI 的整体分布特征，利用散点图展示 AQI 与 PM2.5 的相关性，利用饼图展示空气质量等级的分布特征。\n",
    "\n",
    "## 实验程序和结果\n",
    "\n",
    "### AQI 的时序变化特点程序代码\n",
    "\n",
    "### AQI 的分布特征及相关性分析程序代码\n"
   ]
  },
  {
   "cell_type": "code",
   "execution_count": null,
   "metadata": {},
   "outputs": [],
   "source": []
  }
 ],
 "metadata": {
  "language_info": {
   "name": "python"
  }
 },
 "nbformat": 4,
 "nbformat_minor": 2
}
